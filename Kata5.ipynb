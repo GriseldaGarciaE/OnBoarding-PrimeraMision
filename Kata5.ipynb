{
 "cells": [
  {
   "cell_type": "markdown",
   "metadata": {},
   "source": [
    "## Ejercicio1"
   ]
  },
  {
   "cell_type": "code",
   "execution_count": 13,
   "metadata": {},
   "outputs": [
    {
     "name": "stdout",
     "output_type": "stream",
     "text": [
      "628949330\n",
      "390577533.93\n"
     ]
    }
   ],
   "source": [
    "# poner // te muestra el numero entero \n",
    "#display_minutes = 1042 // 60\n",
    "\n",
    "#da el sobrante de la operacion\n",
    "#display_seconds = 1042 % 60\n",
    "\n",
    "disTierra = 149597870 \n",
    "disJupiter = 778547200\n",
    "\n",
    "distanciaK = disJupiter - disTierra\n",
    "print(distanciaK)\n",
    "\n",
    "#distanciaM = distanciaK * 0.621\n",
    "distanciaM = (disJupiter - disTierra) * 0.621\n",
    "print(distanciaM)\n",
    "\n"
   ]
  },
  {
   "cell_type": "markdown",
   "metadata": {},
   "source": [
    "## Ejercicio2"
   ]
  },
  {
   "cell_type": "code",
   "execution_count": 22,
   "metadata": {},
   "outputs": [
    {
     "name": "stdout",
     "output_type": "stream",
     "text": [
      "50300000\n",
      "31236300.0\n"
     ]
    }
   ],
   "source": [
    "planeta1 = input('Escribe la distancia del sol para el Planeta1')\n",
    "planeta2 = input('Escribe la distancia del sol para el Planeta2')\n",
    "\n",
    "planeta1 = int(planeta1)\n",
    "planeta2 = int(planeta2)\n",
    "\n",
    "distanciaKm = planeta1 - planeta2\n",
    "print(distanciaKm)\n",
    "\n",
    "distanciaMi = distanciaKm * 0.621\n",
    "print(abs(distanciaMi))\n"
   ]
  }
 ],
 "metadata": {
  "interpreter": {
   "hash": "024b768c50000e61a44a4568f35336dba87c56700df5daeaaa55b0671d217f47"
  },
  "kernelspec": {
   "display_name": "Python 3.10.2 64-bit (windows store)",
   "language": "python",
   "name": "python3"
  },
  "language_info": {
   "codemirror_mode": {
    "name": "ipython",
    "version": 3
   },
   "file_extension": ".py",
   "mimetype": "text/x-python",
   "name": "python",
   "nbconvert_exporter": "python",
   "pygments_lexer": "ipython3",
   "version": "3.10.2"
  },
  "orig_nbformat": 4
 },
 "nbformat": 4,
 "nbformat_minor": 2
}
