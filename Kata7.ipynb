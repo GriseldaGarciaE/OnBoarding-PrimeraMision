{
 "cells": [
  {
   "cell_type": "code",
   "execution_count": 7,
   "metadata": {},
   "outputs": [
    {
     "name": "stdout",
     "output_type": "stream",
     "text": [
      "Mercurio\n",
      "Venus\n",
      "Tierra\n",
      "Marte\n"
     ]
    }
   ],
   "source": [
    "nuevoplaneta = ''\n",
    "planetas = []\n",
    "\n",
    "while nuevoplaneta.lower() != 'done':\n",
    "    if nuevoplaneta:\n",
    "        planetas.append(nuevoplaneta)\n",
    "    nuevoplaneta = input('Agrega un planeta nuevo ')\n",
    "\n",
    "for planeta in planetas:\n",
    "    print(planeta)\n",
    "\n"
   ]
  }
 ],
 "metadata": {
  "interpreter": {
   "hash": "f5a7188e2ca053c5be19727a0aaa6430c90dd87ff89da5d46c6aa559e6caf473"
  },
  "kernelspec": {
   "display_name": "Python 3.10.2 64-bit",
   "language": "python",
   "name": "python3"
  },
  "language_info": {
   "codemirror_mode": {
    "name": "ipython",
    "version": 3
   },
   "file_extension": ".py",
   "mimetype": "text/x-python",
   "name": "python",
   "nbconvert_exporter": "python",
   "pygments_lexer": "ipython3",
   "version": "3.10.2"
  },
  "orig_nbformat": 4
 },
 "nbformat": 4,
 "nbformat_minor": 2
}
