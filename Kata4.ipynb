{
 "cells": [
  {
   "cell_type": "markdown",
   "metadata": {},
   "source": [
    "## Ejemplo"
   ]
  },
  {
   "cell_type": "code",
   "execution_count": 40,
   "metadata": {},
   "outputs": [
    {
     "name": "stdout",
     "output_type": "stream",
     "text": [
      "Facts about the Moon: \n",
      "There is no atmosphere. \n",
      "There is no sound.\n"
     ]
    }
   ],
   "source": [
    "#moon_radius = \"The Moon has a radius of 1,080 miles\"\n",
    "#eje1 = 'The \"near side\" is the part of the Moon that faces the Earth'\n",
    "#eje2 = \"We only see about 60% of the Moon's surface\"\n",
    "#eje3 = \"\"\"We only see about 60% of the Moon's surface, this is known as the \"near side\".\"\"\"\n",
    "\n",
    "#print(eje3)\n",
    "\n",
    "#multiline = \"\"\"Facts about the Moon: \n",
    "#There is no atmosphere. \n",
    "#There is no sound.\"\"\"\n",
    "\n",
    "#NO DEJA SALTAR DE LINEA SI SOLO TIENE UNAS COMILLAS DOBLES \n",
    "#multiline = \"Facts about the Moon: \n",
    "#There is no atmosphere. \n",
    "#There is no sound.\"\n",
    "\n",
    "#print(multiline)\n"
   ]
  },
  {
   "cell_type": "markdown",
   "metadata": {},
   "source": [
    "## Ejercicio 1"
   ]
  },
  {
   "cell_type": "code",
   "execution_count": 128,
   "metadata": {},
   "outputs": [
    {
     "data": {
      "text/plain": [
       "['Interesting facts about the Moon',\n",
       " \"The Moon is Earth's only satellite\",\n",
       " 'There are several interesting facts about the Moon and how it affects life here on Earth',\n",
       " 'On average, the Moon moves 4cm away from the Earth every year',\n",
       " 'This yearly drift is not significant enough to cause immediate effects on Earth',\n",
       " 'The highest daylight temperature of the Moon is 127 C.']"
      ]
     },
     "execution_count": 128,
     "metadata": {},
     "output_type": "execute_result"
    }
   ],
   "source": [
    "text = \"\"\"Interesting facts about the Moon. The Moon is Earth's only satellite. There are several interesting facts about the Moon and how it affects life here on Earth. On average, the Moon moves 4cm away from the Earth every year. This yearly drift is not significant enough to cause immediate effects on Earth. The highest daylight temperature of the Moon is 127 C.\"\"\"\n",
    "\n",
    "#text1 = \"\"\"Interesting facts about the Moon.\n",
    "#The Moon is Earth's only satellite.\n",
    "#There are several interesting facts about the Moon and how it affects life here on Earth.\n",
    "#On average, the Moon moves 4cm away from the Earth every year.\n",
    "#This yearly drift is not significant enough to cause immediate effects on Earth.\n",
    "#The highest daylight temperature of the Moon is 127 C.\"\"\"\n",
    "\n",
    "#text2 = \"\"\"Interesting facts about the Moon.\\nThe Moon is Earth's only satellite.\\nThere are several interesting facts about the Moon and how it affects life here on Earth.\\nOn average, the Moon moves 4cm away from the Earth every year.\\nThis yearly drift is not significant enough to cause immediate effects on Earth.\\nThe highest daylight temperature of the Moon is 127 C.\"\"\"\n",
    "\n",
    "#print(text2)\n",
    "\n",
    "text_parts = text.split('. ')\n",
    "text_parts"
   ]
  },
  {
   "cell_type": "code",
   "execution_count": 130,
   "metadata": {},
   "outputs": [],
   "source": [
    "#'Moon' in 'This text will describe facts and challenges with space travel'\n",
    "\n",
    "#'average' in \"\"\"Interesting facts about the Moon.\\nThe Moon is Earth's only satellite.\\nThere are several interesting facts about the Moon and how it affects life here on Earth.\\nOn average, the Moon moves 4cm away from the Earth every year.\\nThis yearly drift is not significant enough to cause immediate effects on Earth.\\nThe highest daylight temperature of the Moon is 127 C.\"\"\"\n",
    "\n",
    "#text2.find('average')\n",
    "#text2.find('temperature')\n",
    "#text2.find('distance')\n",
    "#print(str(text2.find('average')) + \" \" + str(text2.find('temperature')) + \" \" + str(text2.find('distance')))\n",
    "\n",
    "key_words = [\"average\", \"temperature\", \"distance\"]"
   ]
  },
  {
   "cell_type": "code",
   "execution_count": 111,
   "metadata": {},
   "outputs": [],
   "source": [
    "#temperatures = 'Mars Average Temperature: -60 C'\n",
    "#parts = temperatures.split(':')\n",
    "#parts\n",
    "\n",
    "#temperatures = 'Mars, Average, Temperature: -60 C'\n",
    "#parts = temperatures.split(',')\n",
    "#parts\n",
    "\n",
    "#si no se le pone nada al split lo separa por espacios \n",
    "#parts = temperatures.split()\n",
    "#parts\n",
    "\n",
    "\n",
    "#si pones la pura variable se muestra lo que hay en la variable sin necesidad del print\n",
    "#temperatures\n",
    "\n",
    "#parts[-2]\n",
    "#parts[-1]\n"
   ]
  },
  {
   "cell_type": "code",
   "execution_count": 131,
   "metadata": {},
   "outputs": [
    {
     "name": "stdout",
     "output_type": "stream",
     "text": [
      "On average, the Moon moves 4cm away from the Earth every year\n",
      "The highest daylight temperature of the Moon is 127 C.\n"
     ]
    }
   ],
   "source": [
    "#mars_temperature = 'The highest temperature on Mars is about 30 C'\n",
    "#for item in mars_temperature.split():\n",
    "#    if item.isnumeric():\n",
    "#        print(item)\n",
    "\n",
    "#for item in text2.split():\n",
    "#    if item.replace('C.', 'Celsius'):\n",
    "#        print(text2)\n",
    "\n",
    "\n",
    "#busca las palabras clave en cada renglon\n",
    "#muestra los renglones en donde hay palabras clave\n",
    "for sentence in text_parts:\n",
    "    for key_word in key_words:\n",
    "        if key_word in sentence:\n",
    "            print(sentence)\n",
    "            break"
   ]
  },
  {
   "cell_type": "code",
   "execution_count": 132,
   "metadata": {},
   "outputs": [
    {
     "name": "stdout",
     "output_type": "stream",
     "text": [
      "Interesting facts about the Moon\n",
      "The Moon is Earth's only satellite\n",
      "There are several interesting facts about the Moon and how it affects life here on Earth\n",
      "On average, the Moon moves 4cm away from the Earth every year\n",
      "This yearly drift is not significant enough to cause immediate effects on Earth\n",
      "The highest daylight temperature of the Moon is 127 Celsius.\n"
     ]
    }
   ],
   "source": [
    "#solo remplasa la C a Celsius en los renglones en donde hay palabras clave\n",
    "#for sentence in text_parts:\n",
    "##   for key_word in key_words:\n",
    "#        if key_word in sentence:\n",
    "#            print(sentence.replace(' C', ' Celsius'))\n",
    "#            break\n",
    "\n",
    "for sentence in text_parts:\n",
    "    print(sentence.replace(' C', ' Celsius'))\n",
    "            "
   ]
  },
  {
   "cell_type": "markdown",
   "metadata": {},
   "source": [
    "## Ejercicio 2"
   ]
  },
  {
   "cell_type": "code",
   "execution_count": 150,
   "metadata": {},
   "outputs": [
    {
     "name": "stdout",
     "output_type": "stream",
     "text": [
      "Gravity On The Moon\n",
      "--------------------------------------------------------------------------------\n",
      "Planet Name: Earth \n",
      "Gravity on the Moon: 1.6199999999999999 km/s\n",
      "\n",
      "\n"
     ]
    }
   ],
   "source": [
    "name = \"Moon\"\n",
    "gravity = 0.00162 # in kms\n",
    "planet = \"Earth\"\n",
    "\n",
    "titulo = f'Gravity on the {name}'\n",
    "\n",
    "#plantilla\n",
    "info = f\"\"\"{'-'*80}\n",
    "Planet Name: {planet} \n",
    "Gravity on the {name}: {gravity * 1000} km/s\n",
    "\"\"\"\n",
    "plantilla = f\"\"\"{titulo.title()}\n",
    "{info}\n",
    "\"\"\"\n",
    "\n",
    "print(plantilla)\n"
   ]
  },
  {
   "cell_type": "code",
   "execution_count": 152,
   "metadata": {},
   "outputs": [
    {
     "name": "stdout",
     "output_type": "stream",
     "text": [
      "Gravity On The Ganymede\n",
      "--------------------------------------------------------------------------------\n",
      "Planet Name: Mars \n",
      "Gravity on the Ganymede: 1.4300000000000002 km/s\n",
      "\n",
      "\n"
     ]
    }
   ],
   "source": [
    "name = \"Ganymede\"\n",
    "gravity = 0.00143\n",
    "planet = \"Mars\"\n",
    "\n",
    "titulo = f'Gravity on the {name}'\n",
    "\n",
    "#plantilla\n",
    "info = f\"\"\"{'-'*80}\n",
    "Planet Name: {planet} \n",
    "Gravity on the {name}: {gravity * 1000} km/s\n",
    "\"\"\"\n",
    "plantilla = f\"\"\"{titulo.title()}\n",
    "{info}\n",
    "\"\"\"\n",
    "\n",
    "print(plantilla)"
   ]
  }
 ],
 "metadata": {
  "interpreter": {
   "hash": "024b768c50000e61a44a4568f35336dba87c56700df5daeaaa55b0671d217f47"
  },
  "kernelspec": {
   "display_name": "Python 3.10.2 64-bit (windows store)",
   "language": "python",
   "name": "python3"
  },
  "language_info": {
   "codemirror_mode": {
    "name": "ipython",
    "version": 3
   },
   "file_extension": ".py",
   "mimetype": "text/x-python",
   "name": "python",
   "nbconvert_exporter": "python",
   "pygments_lexer": "ipython3",
   "version": "3.10.2"
  },
  "orig_nbformat": 4
 },
 "nbformat": 4,
 "nbformat_minor": 2
}
