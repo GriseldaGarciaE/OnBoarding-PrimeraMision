{
 "cells": [
  {
   "cell_type": "code",
   "execution_count": 8,
   "metadata": {},
   "outputs": [
    {
     "name": "stdout",
     "output_type": "stream",
     "text": [
      "Un asteroide se acerca a la Tierra demasiado rápido\n"
     ]
    }
   ],
   "source": [
    "velocidad = 49\n",
    "\n",
    "if velocidad > 25:\n",
    "    print(\"Un asteroide se acerca a la Tierra demasiado rápido\")\n",
    "else:\n",
    "    print(\"No hay riesgo\")"
   ]
  },
  {
   "cell_type": "code",
   "execution_count": 13,
   "metadata": {},
   "outputs": [
    {
     "name": "stdout",
     "output_type": "stream",
     "text": [
      "Un asteroide se dirige a la tierra a una velocidad de 19 km/s\n"
     ]
    }
   ],
   "source": [
    "velocidad = 19\n",
    "dentroatmosfera = False\n",
    "rayoluz = False\n",
    "\n",
    "\n",
    "if velocidad >= 20:\n",
    "    if dentroatmosfera == True:\n",
    "        if rayoluz == True:\n",
    "            print(\"¡¡Busquen un asteroide en el cielo!!\")\n",
    "        else:\n",
    "            print(\"Un asteroide entro en la atmósfera a una velocidad mayor o igaul a 20 km/s\")\n",
    "    else: \n",
    "        print(\"Un asteroide se dirige a la tierra a una velocidad mayor o igaul a 20 km/s\")\n",
    "else:\n",
    "    print(\"Un asteroide se dirige a la tierra a una velocidad de \" + str(velocidad) + \" km/s\")\n",
    "    #if dentroatmosfera == True:\n",
    "        #print(\"Un asteroide entro en la atmósfera a una velocidad menor a 20 km/s\")\n",
    "    #else:\n",
    "        #print(\"Un asteroide se dirige a la tierra a una velocidad de \" + str(velocidad) + \" km/s\")"
   ]
  },
  {
   "cell_type": "code",
   "execution_count": 6,
   "metadata": {},
   "outputs": [
    {
     "name": "stdout",
     "output_type": "stream",
     "text": [
      "Un asteroide menor a 25 metros entro a la atmósfera pero probablemente se quemara\n"
     ]
    }
   ],
   "source": [
    "velocidad = 19 \n",
    "tamano = 10\n",
    "dentroatmosfera = True\n",
    "rayodeluz = False\n",
    "\n",
    "if velocidad > 25:\n",
    "    print(\"Un asteroide se acerca a la Tierra demasiado rápido\")\n",
    "elif velocidad >=20 and dentroatmosfera == True:\n",
    "    if rayodeluz == True:\n",
    "        print(\"¡¡Busquen un asteroide en el cielo!!\")\n",
    "    else:\n",
    "        print(\"Un asteroide entro en la atmósfera a una velocidad mayor o igaul a 20 km/s\")\n",
    "elif tamano > 25 and tamano < 1000 and dentroatmosfera == True:\n",
    "    print(\"Un asteroide mayor a 25 metros entro a la atmósfera y causara mucho daño\")  \n",
    "elif tamano <= 25 and dentroatmosfera == True:\n",
    "    print(\"Un asteroide menor a 25 metros entro a la atmósfera pero probablemente se quemara\")\n",
    "else:\n",
    "    print(\"Un asteroide se dirige a la tierra a una velocidad de \" + str(velocidad) + \" km/s, no hay riesgo\")"
   ]
  }
 ],
 "metadata": {
  "interpreter": {
   "hash": "f5a7188e2ca053c5be19727a0aaa6430c90dd87ff89da5d46c6aa559e6caf473"
  },
  "kernelspec": {
   "display_name": "Python 3.10.2 64-bit",
   "language": "python",
   "name": "python3"
  },
  "language_info": {
   "codemirror_mode": {
    "name": "ipython",
    "version": 3
   },
   "file_extension": ".py",
   "mimetype": "text/x-python",
   "name": "python",
   "nbconvert_exporter": "python",
   "pygments_lexer": "ipython3",
   "version": "3.10.2"
  },
  "orig_nbformat": 4
 },
 "nbformat": 4,
 "nbformat_minor": 2
}
